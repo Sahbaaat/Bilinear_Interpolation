{
 "cells": [
  {
   "cell_type": "code",
   "execution_count": 1,
   "metadata": {},
   "outputs": [],
   "source": [
    "import numpy as np\n",
    "import cv2"
   ]
  },
  {
   "cell_type": "code",
   "execution_count": 2,
   "metadata": {},
   "outputs": [],
   "source": [
    "image_in = cv2.imread('/content/cameraman.tif', cv2.IMREAD_GRAYSCALE)"
   ]
  },
  {
   "cell_type": "code",
   "execution_count": 4,
   "metadata": {},
   "outputs": [],
   "source": [
    "def Bilinear_Interpolation(image_in, output_height, output_width):\n",
    "  \n",
    "  r_in, c_in = image_in.shape   #input image's size\n",
    "  r_out, c_out = output_height,output_width   #desired size\n",
    "\n",
    "  image_out = np.zeros((r_out, c_out),  dtype = int)   #initialize the ouput array\n",
    "\n",
    "  s_r = r_in / r_out          #scale factor for height\n",
    "  s_c = c_in / c_out            #scale factor weight\n",
    "\n",
    "\n",
    "  for i in range(0, r_out-1):\n",
    "    for j in range(0, c_out-1):\n",
    "    \n",
    "    #subpixel location (r_f, c_f) in input image of pixel (r,c) in output image\n",
    "      r_f = i * s_r     \n",
    "      c_f = j * s_c  \n",
    "    \n",
    "    #integer part of (r_f, c_f)\n",
    "      r0 = int(np.floor(r_f))\n",
    "      c0 = int(np.floor(c_f))\n",
    "    \n",
    "      if r0 < 1:\n",
    "        r0 = 1\n",
    "      \n",
    "      if r0 >= r_in:\n",
    "        r0 = r_in-1\n",
    "      \n",
    "      if c0 < 1:\n",
    "        c0 = 1\n",
    "      \n",
    "      if c0 >= c_in:\n",
    "        c0 = c_in-1\n",
    "\n",
    "    #fractional part of (r_f, c_f)\n",
    "      delta_r = r_f - r0\n",
    "      delta_c = c_f - c0\n",
    "    \n",
    "# the location of (r_f, c_f) as fractions of the distances between (r0, c0) and its 3 neighbours\n",
    "      image_out[i , j] = image_in[r0 , c0] * (1-delta_r)*(1-delta_c) + \\\n",
    "      image_in[r0+1 , c0] * (delta_r)*(1- delta_c) + \\\n",
    "      image_in[r0 , c0+1] * (1- delta_r)*(delta_c) + \\\n",
    "      image_in[r0+1 , c0+1] * (delta_r)*(delta_c)\n",
    "      \n",
    "  return image_out"
   ]
  },
  {
   "cell_type": "code",
   "execution_count": 5,
   "metadata": {},
   "outputs": [
    {
     "ename": "AttributeError",
     "evalue": "'NoneType' object has no attribute 'shape'",
     "output_type": "error",
     "traceback": [
      "\u001b[1;31m---------------------------------------------------------------------------\u001b[0m",
      "\u001b[1;31mAttributeError\u001b[0m                            Traceback (most recent call last)",
      "\u001b[1;32m<ipython-input-5-061498b8520e>\u001b[0m in \u001b[0;36m<module>\u001b[1;34m()\u001b[0m\n\u001b[0;32m      1\u001b[0m \u001b[1;31m#save the resized image\u001b[0m\u001b[1;33m\u001b[0m\u001b[1;33m\u001b[0m\u001b[0m\n\u001b[1;32m----> 2\u001b[1;33m \u001b[0mout\u001b[0m \u001b[1;33m=\u001b[0m \u001b[0mBilinear_Interpolation\u001b[0m\u001b[1;33m(\u001b[0m\u001b[0mimage_in\u001b[0m\u001b[1;33m,\u001b[0m \u001b[1;36m400\u001b[0m\u001b[1;33m,\u001b[0m \u001b[1;36m400\u001b[0m\u001b[1;33m)\u001b[0m\u001b[1;33m\u001b[0m\u001b[0m\n\u001b[0m\u001b[0;32m      3\u001b[0m \u001b[0mcv2\u001b[0m\u001b[1;33m.\u001b[0m\u001b[0mimwrite\u001b[0m\u001b[1;33m(\u001b[0m\u001b[1;34m'out.jpg'\u001b[0m\u001b[1;33m,\u001b[0m \u001b[0mout\u001b[0m\u001b[1;33m)\u001b[0m\u001b[1;33m\u001b[0m\u001b[0m\n",
      "\u001b[1;32m<ipython-input-4-c18ec755bd17>\u001b[0m in \u001b[0;36mBilinear_Interpolation\u001b[1;34m(image_in, output_height, output_width)\u001b[0m\n\u001b[0;32m      1\u001b[0m \u001b[1;32mdef\u001b[0m \u001b[0mBilinear_Interpolation\u001b[0m\u001b[1;33m(\u001b[0m\u001b[0mimage_in\u001b[0m\u001b[1;33m,\u001b[0m \u001b[0moutput_height\u001b[0m\u001b[1;33m,\u001b[0m \u001b[0moutput_width\u001b[0m\u001b[1;33m)\u001b[0m\u001b[1;33m:\u001b[0m\u001b[1;33m\u001b[0m\u001b[0m\n\u001b[0;32m      2\u001b[0m \u001b[1;33m\u001b[0m\u001b[0m\n\u001b[1;32m----> 3\u001b[1;33m   \u001b[0mr_in\u001b[0m\u001b[1;33m,\u001b[0m \u001b[0mc_in\u001b[0m \u001b[1;33m=\u001b[0m \u001b[0mimage_in\u001b[0m\u001b[1;33m.\u001b[0m\u001b[0mshape\u001b[0m   \u001b[1;31m#input image's size\u001b[0m\u001b[1;33m\u001b[0m\u001b[0m\n\u001b[0m\u001b[0;32m      4\u001b[0m   \u001b[0mr_out\u001b[0m\u001b[1;33m,\u001b[0m \u001b[0mc_out\u001b[0m \u001b[1;33m=\u001b[0m \u001b[0moutput_height\u001b[0m\u001b[1;33m,\u001b[0m\u001b[0moutput_width\u001b[0m   \u001b[1;31m#desired size\u001b[0m\u001b[1;33m\u001b[0m\u001b[0m\n\u001b[0;32m      5\u001b[0m \u001b[1;33m\u001b[0m\u001b[0m\n",
      "\u001b[1;31mAttributeError\u001b[0m: 'NoneType' object has no attribute 'shape'"
     ]
    }
   ],
   "source": [
    "#save the resized image\n",
    "out = Bilinear_Interpolation(image_in, 400, 400)\n",
    "cv2.imwrite('Resized_Image.jpg', out)"
   ]
  },
  {
   "cell_type": "code",
   "execution_count": null,
   "metadata": {},
   "outputs": [],
   "source": []
  }
 ],
 "metadata": {
  "kernelspec": {
   "display_name": "Python [conda env:Anaconda3]",
   "language": "python",
   "name": "conda-env-Anaconda3-py"
  },
  "language_info": {
   "codemirror_mode": {
    "name": "ipython",
    "version": 3
   },
   "file_extension": ".py",
   "mimetype": "text/x-python",
   "name": "python",
   "nbconvert_exporter": "python",
   "pygments_lexer": "ipython3",
   "version": "3.7.0"
  }
 },
 "nbformat": 4,
 "nbformat_minor": 2
}
